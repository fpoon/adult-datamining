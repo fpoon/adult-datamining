{
 "cells": [
  {
   "cell_type": "markdown",
   "metadata": {},
   "source": [
    "# Temat: Określenie czy dana osoba zarabia więcej niż 50tyś dolarów rocznie."
   ]
  },
  {
   "cell_type": "markdown",
   "metadata": {},
   "source": [
    "## 1. Omówienie tematu"
   ]
  },
  {
   "cell_type": "markdown",
   "metadata": {},
   "source": [
    "Badamy dane dotyczące zarobków w Ameryce w roku 1994. Później się tu coś dopisze."
   ]
  },
  {
   "cell_type": "code",
   "execution_count": 1,
   "metadata": {
    "collapsed": false
   },
   "outputs": [],
   "source": [
    "import pandas as pd\n",
    "import numpy as np\n",
    "import matplotlib.pyplot as plt\n",
    "%matplotlib inline\n",
    "\n",
    "adult = pd.read_csv(\"adult.csv\")"
   ]
  },
  {
   "cell_type": "markdown",
   "metadata": {},
   "source": [
    "## 2. Wstępna analiza danych"
   ]
  },
  {
   "cell_type": "code",
   "execution_count": 23,
   "metadata": {
    "collapsed": false
   },
   "outputs": [],
   "source": [
    "adult['income'] = adult['income'].map(lambda x: {'>50K': 1, '<=50K': 0}[x])"
   ]
  },
  {
   "cell_type": "markdown",
   "metadata": {},
   "source": [
    "### 2.1 Badanie pustych pól"
   ]
  },
  {
   "cell_type": "markdown",
   "metadata": {},
   "source": [
    "Poniżej znajduje się skrypt badający wypełnienie poszczególnych kolumn"
   ]
  },
  {
   "cell_type": "code",
   "execution_count": 171,
   "metadata": {
    "collapsed": false,
    "scrolled": false
   },
   "outputs": [
    {
     "name": "stdout",
     "output_type": "stream",
     "text": [
      "Rozmiar: 32561 wierszy.\n"
     ]
    },
    {
     "data": {
      "text/plain": [
       "<matplotlib.axes._subplots.AxesSubplot at 0x7f907bce3190>"
      ]
     },
     "execution_count": 171,
     "metadata": {},
     "output_type": "execute_result"
    },
    {
     "data": {
      "image/png": "[encoded data removed]",
      "text/plain": [
       "<matplotlib.figure.Figure at 0x7f907bcd1310>"
      ]
     },
     "metadata": {},
     "output_type": "display_data"
    }
   ],
   "source": [
    "size = len(adult)\n",
    "print \"Rozmiar:\", size, \"wierszy.\"\n",
    "frame = pd.DataFrame(index = adult.columns)\n",
    "for col in adult.columns:\n",
    "    empty = 0\n",
    "    try:\n",
    "        empty = len(adult.loc[adult[col] == '?'])\n",
    "    except:\n",
    "        empty = len(adult.loc[adult[col] == np.NaN])\n",
    "    percentage = float(empty)*100.0/float(size)\n",
    "    frame.set_value(col, '% pustych', percentage)\n",
    "frame.transpose()\n",
    "frame.plot(kind='bar')"
   ]
  },
  {
   "cell_type": "markdown",
   "metadata": {},
   "source": [
    "Jak widać, jedynymi kolumnami posiadającymi puste pola są te określające segment rynku, zawód i kraj pochodzenia. Ponadto widać podobną ilość pustych pól w kategoriach segmentu rynku i zatrudnienia, co każe sądzić że są w jakiś sposób ze sobą skorelowane."
   ]
  },
  {
   "cell_type": "code",
   "execution_count": 167,
   "metadata": {
    "collapsed": false
   },
   "outputs": [
    {
     "data": {
      "text/html": [
       "<div>\n",
       "<table border=\"1\" class=\"dataframe\">\n",
       "  <thead>\n",
       "    <tr style=\"text-align: right;\">\n",
       "      <th></th>\n",
       "      <th>Nie podano razy</th>\n",
       "    </tr>\n",
       "  </thead>\n",
       "  <tbody>\n",
       "    <tr>\n",
       "      <th>Segment rynku</th>\n",
       "      <td>1836</td>\n",
       "    </tr>\n",
       "    <tr>\n",
       "      <th>Zawód</th>\n",
       "      <td>1843</td>\n",
       "    </tr>\n",
       "    <tr>\n",
       "      <th>Obydwa</th>\n",
       "      <td>1836</td>\n",
       "    </tr>\n",
       "  </tbody>\n",
       "</table>\n",
       "</div>"
      ],
      "text/plain": [
       "               Nie podano razy\n",
       "Segment rynku             1836\n",
       "Zawód                     1843\n",
       "Obydwa                    1836"
      ]
     },
     "execution_count": 167,
     "metadata": {},
     "output_type": "execute_result"
    }
   ],
   "source": [
    "dat = [len(adult.loc[adult['workclass'] == '?']), len(adult.loc[adult['occupation'] == '?']),\n",
    "     len(adult.loc[adult['workclass'] == '?'].loc[adult['occupation'] == '?'])]\n",
    "ind = [\"Segment rynku\", \"Zawód\", \"Obydwa\"]\n",
    "pd.DataFrame(index=ind, data=dat, columns=['Nie podano razy'])"
   ]
  },
  {
   "cell_type": "markdown",
   "metadata": {},
   "source": [
    "Jak widać w każdym wypadku nie podania segmentu rynku badany nie podawał także uprawianego zawodu. Poniżej znajduje się analiza ilości niezatrudnionych osób względem wieku."
   ]
  },
  {
   "cell_type": "code",
   "execution_count": 85,
   "metadata": {
    "collapsed": false,
    "scrolled": true
   },
   "outputs": [
    {
     "data": {
      "text/plain": [
       "<matplotlib.text.Text at 0x7f4b77ad2790>"
      ]
     },
     "execution_count": 85,
     "metadata": {},
     "output_type": "execute_result"
    },
    {
     "data": {
      "image/png": "[encoded data removed]",
      "text/plain": [
       "<matplotlib.figure.Figure at 0x7f4b7c987950>"
      ]
     },
     "metadata": {},
     "output_type": "display_data"
    }
   ],
   "source": [
    "fig, (ax1, ax2) = plt.subplots(1, 2)\n",
    "df1 = adult.loc[adult['workclass'] == '?'].loc[adult['occupation'] == '?'].sort_values(by=['age'])\n",
    "dfh1 = df1['age'].plot.hist(bins=(90-16), title = 'Brak informacji', ax=ax1)\n",
    "df2 = adult.loc[adult['workclass'] != '?'].loc[adult['occupation'] != '?'].sort_values(by=['age'])\n",
    "dfh2 = df2['age'].plot.hist(bins=(90-16), title = 'Informacja obecna', ax=ax2)\n",
    "fig.suptitle(u\"Wiek osób podajacych miejsce zatrudnienia\")\n"
   ]
  },
  {
   "cell_type": "markdown",
   "metadata": {},
   "source": [
    "Na powyższym wykresie widać duży odsetek osób niezatrudnionych w wieku ok. 20 lat i osób po 60 roku życia. Każe to sądzić, że osoby w wieku 20 lat jeszcze się uczą, natomiast z opracowań statystycznych wynika, że w latach 90. przeciętna wieku przejścia na emeryturę w Ameryce wynosiła 62 lata, zarówno dla kobiet jak i mężczyzn, co potwierdza przypuszczenia, że osoby niepodające zatrudnienia po 60 roku życia to emeryci. Oznacza to, że nie podanie zatrudnienia to brak pracy. Można zauważyć inny rozkład na wykresie z osobami podającymi miejsce zatrudnienia. Dlatego osobom posiadającym znak '?' przypisujemy wartość 'None' oznaczającą aktualny brak zatrudnienia."
   ]
  },
  {
   "cell_type": "code",
   "execution_count": 28,
   "metadata": {
    "collapsed": false
   },
   "outputs": [],
   "source": [
    "wd1 = adult\n",
    "adult['occupation'] = adult['occupation'].replace(to_replace='?', value='None')\n",
    "adult['workclass'] = adult['workclass'].replace(to_replace='?', value='None')"
   ]
  },
  {
   "cell_type": "code",
   "execution_count": 29,
   "metadata": {
    "collapsed": false
   },
   "outputs": [
    {
     "data": {
      "text/html": [
       "<div>\n",
       "<table border=\"1\" class=\"dataframe\">\n",
       "  <thead>\n",
       "    <tr style=\"text-align: right;\">\n",
       "      <th></th>\n",
       "      <th>age</th>\n",
       "      <th>fnlwgt</th>\n",
       "      <th>education.num</th>\n",
       "      <th>capital.gain</th>\n",
       "      <th>capital.loss</th>\n",
       "      <th>hours.per.week</th>\n",
       "      <th>income</th>\n",
       "    </tr>\n",
       "  </thead>\n",
       "  <tbody>\n",
       "    <tr>\n",
       "      <th>age</th>\n",
       "      <td>1.000000</td>\n",
       "      <td>-0.082535</td>\n",
       "      <td>0.002081</td>\n",
       "      <td>0.072523</td>\n",
       "      <td>0.043599</td>\n",
       "      <td>-0.138976</td>\n",
       "      <td>0.245685</td>\n",
       "    </tr>\n",
       "    <tr>\n",
       "      <th>fnlwgt</th>\n",
       "      <td>-0.082535</td>\n",
       "      <td>1.000000</td>\n",
       "      <td>-0.044200</td>\n",
       "      <td>0.014508</td>\n",
       "      <td>-0.015572</td>\n",
       "      <td>0.022762</td>\n",
       "      <td>-0.015752</td>\n",
       "    </tr>\n",
       "    <tr>\n",
       "      <th>education.num</th>\n",
       "      <td>0.002081</td>\n",
       "      <td>-0.044200</td>\n",
       "      <td>1.000000</td>\n",
       "      <td>0.071851</td>\n",
       "      <td>0.071484</td>\n",
       "      <td>-0.045758</td>\n",
       "      <td>0.267660</td>\n",
       "    </tr>\n",
       "    <tr>\n",
       "      <th>capital.gain</th>\n",
       "      <td>0.072523</td>\n",
       "      <td>0.014508</td>\n",
       "      <td>0.071851</td>\n",
       "      <td>1.000000</td>\n",
       "      <td>-0.020206</td>\n",
       "      <td>0.037798</td>\n",
       "      <td>0.255288</td>\n",
       "    </tr>\n",
       "    <tr>\n",
       "      <th>capital.loss</th>\n",
       "      <td>0.043599</td>\n",
       "      <td>-0.015572</td>\n",
       "      <td>0.071484</td>\n",
       "      <td>-0.020206</td>\n",
       "      <td>1.000000</td>\n",
       "      <td>0.029185</td>\n",
       "      <td>0.105927</td>\n",
       "    </tr>\n",
       "    <tr>\n",
       "      <th>hours.per.week</th>\n",
       "      <td>-0.138976</td>\n",
       "      <td>0.022762</td>\n",
       "      <td>-0.045758</td>\n",
       "      <td>0.037798</td>\n",
       "      <td>0.029185</td>\n",
       "      <td>1.000000</td>\n",
       "      <td>0.096634</td>\n",
       "    </tr>\n",
       "    <tr>\n",
       "      <th>income</th>\n",
       "      <td>0.245685</td>\n",
       "      <td>-0.015752</td>\n",
       "      <td>0.267660</td>\n",
       "      <td>0.255288</td>\n",
       "      <td>0.105927</td>\n",
       "      <td>0.096634</td>\n",
       "      <td>1.000000</td>\n",
       "    </tr>\n",
       "  </tbody>\n",
       "</table>\n",
       "</div>"
      ],
      "text/plain": [
       "                     age    fnlwgt  education.num  capital.gain  capital.loss  \\\n",
       "age             1.000000 -0.082535       0.002081      0.072523      0.043599   \n",
       "fnlwgt         -0.082535  1.000000      -0.044200      0.014508     -0.015572   \n",
       "education.num   0.002081 -0.044200       1.000000      0.071851      0.071484   \n",
       "capital.gain    0.072523  0.014508       0.071851      1.000000     -0.020206   \n",
       "capital.loss    0.043599 -0.015572       0.071484     -0.020206      1.000000   \n",
       "hours.per.week -0.138976  0.022762      -0.045758      0.037798      0.029185   \n",
       "income          0.245685 -0.015752       0.267660      0.255288      0.105927   \n",
       "\n",
       "                hours.per.week    income  \n",
       "age                  -0.138976  0.245685  \n",
       "fnlwgt                0.022762 -0.015752  \n",
       "education.num        -0.045758  0.267660  \n",
       "capital.gain          0.037798  0.255288  \n",
       "capital.loss          0.029185  0.105927  \n",
       "hours.per.week        1.000000  0.096634  \n",
       "income                0.096634  1.000000  "
      ]
     },
     "execution_count": 29,
     "metadata": {},
     "output_type": "execute_result"
    }
   ],
   "source": [
    "adult.loc[adult['workclass'] == 'None'].loc[adult['occupation'] == 'None'].corr()"
   ]
  },
  {
   "cell_type": "code",
   "execution_count": 25,
   "metadata": {
    "collapsed": false
   },
   "outputs": [
    {
     "data": {
      "text/html": [
       "<div>\n",
       "<table border=\"1\" class=\"dataframe\">\n",
       "  <thead>\n",
       "    <tr style=\"text-align: right;\">\n",
       "      <th></th>\n",
       "      <th>age</th>\n",
       "      <th>fnlwgt</th>\n",
       "      <th>education.num</th>\n",
       "      <th>capital.gain</th>\n",
       "      <th>capital.loss</th>\n",
       "      <th>hours.per.week</th>\n",
       "      <th>income</th>\n",
       "    </tr>\n",
       "  </thead>\n",
       "  <tbody>\n",
       "    <tr>\n",
       "      <th>age</th>\n",
       "      <td>1.000000</td>\n",
       "      <td>-0.076646</td>\n",
       "      <td>0.036527</td>\n",
       "      <td>0.077674</td>\n",
       "      <td>0.057775</td>\n",
       "      <td>0.068756</td>\n",
       "      <td>0.234037</td>\n",
       "    </tr>\n",
       "    <tr>\n",
       "      <th>fnlwgt</th>\n",
       "      <td>-0.076646</td>\n",
       "      <td>1.000000</td>\n",
       "      <td>-0.043195</td>\n",
       "      <td>0.000432</td>\n",
       "      <td>-0.010252</td>\n",
       "      <td>-0.018768</td>\n",
       "      <td>-0.009463</td>\n",
       "    </tr>\n",
       "    <tr>\n",
       "      <th>education.num</th>\n",
       "      <td>0.036527</td>\n",
       "      <td>-0.043195</td>\n",
       "      <td>1.000000</td>\n",
       "      <td>0.122630</td>\n",
       "      <td>0.079923</td>\n",
       "      <td>0.148123</td>\n",
       "      <td>0.335154</td>\n",
       "    </tr>\n",
       "    <tr>\n",
       "      <th>capital.gain</th>\n",
       "      <td>0.077674</td>\n",
       "      <td>0.000432</td>\n",
       "      <td>0.122630</td>\n",
       "      <td>1.000000</td>\n",
       "      <td>-0.031615</td>\n",
       "      <td>0.078409</td>\n",
       "      <td>0.223329</td>\n",
       "    </tr>\n",
       "    <tr>\n",
       "      <th>capital.loss</th>\n",
       "      <td>0.057775</td>\n",
       "      <td>-0.010252</td>\n",
       "      <td>0.079923</td>\n",
       "      <td>-0.031615</td>\n",
       "      <td>1.000000</td>\n",
       "      <td>0.054256</td>\n",
       "      <td>0.150526</td>\n",
       "    </tr>\n",
       "    <tr>\n",
       "      <th>hours.per.week</th>\n",
       "      <td>0.068756</td>\n",
       "      <td>-0.018768</td>\n",
       "      <td>0.148123</td>\n",
       "      <td>0.078409</td>\n",
       "      <td>0.054256</td>\n",
       "      <td>1.000000</td>\n",
       "      <td>0.229689</td>\n",
       "    </tr>\n",
       "    <tr>\n",
       "      <th>income</th>\n",
       "      <td>0.234037</td>\n",
       "      <td>-0.009463</td>\n",
       "      <td>0.335154</td>\n",
       "      <td>0.223329</td>\n",
       "      <td>0.150526</td>\n",
       "      <td>0.229689</td>\n",
       "      <td>1.000000</td>\n",
       "    </tr>\n",
       "  </tbody>\n",
       "</table>\n",
       "</div>"
      ],
      "text/plain": [
       "                     age    fnlwgt  education.num  capital.gain  capital.loss  \\\n",
       "age             1.000000 -0.076646       0.036527      0.077674      0.057775   \n",
       "fnlwgt         -0.076646  1.000000      -0.043195      0.000432     -0.010252   \n",
       "education.num   0.036527 -0.043195       1.000000      0.122630      0.079923   \n",
       "capital.gain    0.077674  0.000432       0.122630      1.000000     -0.031615   \n",
       "capital.loss    0.057775 -0.010252       0.079923     -0.031615      1.000000   \n",
       "hours.per.week  0.068756 -0.018768       0.148123      0.078409      0.054256   \n",
       "income          0.234037 -0.009463       0.335154      0.223329      0.150526   \n",
       "\n",
       "                hours.per.week    income  \n",
       "age                   0.068756  0.234037  \n",
       "fnlwgt               -0.018768 -0.009463  \n",
       "education.num         0.148123  0.335154  \n",
       "capital.gain          0.078409  0.223329  \n",
       "capital.loss          0.054256  0.150526  \n",
       "hours.per.week        1.000000  0.229689  \n",
       "income                0.229689  1.000000  "
      ]
     },
     "execution_count": 25,
     "metadata": {},
     "output_type": "execute_result"
    }
   ],
   "source": [
    "adult.corr()"
   ]
  },
  {
   "cell_type": "code",
   "execution_count": 101,
   "metadata": {
    "collapsed": false
   },
   "outputs": [
    {
     "data": {
      "text/plain": [
       "<read-write buffer for 0x7f4b7c3b1940, size 130244, offset 0 at 0x7f4b7c396b70>"
      ]
     },
     "execution_count": 101,
     "metadata": {},
     "output_type": "execute_result"
    },
    {
     "data": {
      "image/png": "[encoded data removed]",
      "text/plain": [
       "<matplotlib.figure.Figure at 0x7f4b7c95e8d0>"
      ]
     },
     "metadata": {},
     "output_type": "display_data"
    }
   ],
   "source": [
    "df = adult.copy()\n",
    "\n",
    "del df['native.country']\n",
    "df.columns = ['age','workclass','fnlgwt','education','educnum','martstat','occupation','relationship','race','sex','gain','loss','hours','income']\n",
    "df['income'] = adult['income'].map({'>50K': 1, '<=50K': 0})\n",
    "\n",
    "\n",
    "from sklearn.cluster import KMeans\n",
    "X1,Y1 = df.age.reshape(-1,1) , df.income.reshape(-1,1)\n",
    "\n",
    "\n",
    "kmeans = KMeans(n_clusters=10, random_state=0)\n",
    "kmeans.fit( X1,Y1)\n",
    "etykiety_klastrow = kmeans.fit_predict(X1,Y1)\n",
    "plt.figure(figsize=(5,5))\n",
    "plt.scatter(X1, Y1, marker='o', c=etykiety_klastrow)\n",
    "etykiety_klastrow.data\n"
   ]
  },
  {
   "cell_type": "code",
   "execution_count": 3,
   "metadata": {
    "collapsed": false
   },
   "outputs": [
    {
     "data": {
      "text/plain": [
       "Index([u'age', u'workclass', u'fnlwgt', u'education', u'education.num',\n",
       "       u'marital.status', u'occupation', u'relationship', u'race', u'sex',\n",
       "       u'capital.gain', u'capital.loss', u'hours.per.week', u'native.country',\n",
       "       u'income'],\n",
       "      dtype='object')"
      ]
     },
     "execution_count": 3,
     "metadata": {},
     "output_type": "execute_result"
    }
   ],
   "source": [
    "adult.columns"
   ]
  },
  {
   "cell_type": "code",
   "execution_count": 3,
   "metadata": {
    "collapsed": false
   },
   "outputs": [
    {
     "data": {
      "text/plain": [
       "Index([u'age', u'workclass', u'fnlwgt', u'education', u'education.num',\n",
       "       u'marital.status', u'occupation', u'relationship', u'race', u'sex',\n",
       "       u'capital.gain', u'capital.loss', u'hours.per.week', u'native.country',\n",
       "       u'income'],\n",
       "      dtype='object')"
      ]
     },
     "execution_count": 3,
     "metadata": {},
     "output_type": "execute_result"
    }
   ],
   "source": [
    "adult.columns"
   ]
  },
  {
   "cell_type": "code",
   "execution_count": 10,
   "metadata": {
    "collapsed": false
   },
   "outputs": [
    {
     "name": "stdout",
     "output_type": "stream",
     "text": [
      "United-States 29170\n",
      "? 583\n",
      "Mexico 643\n",
      "Greece 29\n",
      "Vietnam 67\n",
      "China 75\n",
      "Taiwan 51\n",
      "India 100\n",
      "Philippines 198\n",
      "Trinadad&Tobago 19\n",
      "Canada 121\n",
      "South 80\n",
      "Holand-Netherlands 1\n",
      "Puerto-Rico 114\n",
      "Poland 60\n",
      "Iran 43\n",
      "England 90\n",
      "Germany 137\n",
      "Italy 73\n",
      "Japan 62\n",
      "Hong 20\n",
      "Honduras 13\n",
      "Cuba 95\n",
      "Ireland 24\n",
      "Cambodia 19\n",
      "Peru 31\n",
      "Nicaragua 34\n",
      "Dominican-Republic 70\n",
      "Haiti 44\n",
      "El-Salvador 106\n",
      "Hungary 13\n",
      "Columbia 59\n",
      "Guatemala 64\n",
      "Jamaica 81\n",
      "Ecuador 28\n",
      "France 29\n",
      "Yugoslavia 16\n",
      "Scotland 12\n",
      "Portugal 37\n",
      "Laos 18\n",
      "Thailand 18\n",
      "Outlying-US(Guam-USVI-etc) 14\n"
     ]
    }
   ],
   "source": [
    "for x in adult['native.country'].unique():\n",
    "    print x, len(adult.loc[adult['native.country'] == x])"
   ]
  },
  {
   "cell_type": "code",
   "execution_count": null,
   "metadata": {
    "collapsed": true
   },
   "outputs": [],
   "source": []
  }
 ],
 "metadata": {
  "anaconda-cloud": {},
  "kernelspec": {
   "display_name": "Python [default]",
   "language": "python",
   "name": "python2"
  },
  "language_info": {
   "codemirror_mode": {
    "name": "ipython",
    "version": 2
   },
   "file_extension": ".py",
   "mimetype": "text/x-python",
   "name": "python",
   "nbconvert_exporter": "python",
   "pygments_lexer": "ipython2",
   "version": "2.7.12"
  }
 },
 "nbformat": 4,
 "nbformat_minor": 1
}
